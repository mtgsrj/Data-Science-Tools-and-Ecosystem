{
 "cells": [
  {
   "cell_type": "markdown",
   "id": "34cc9fe0-93f4-42ac-80d9-929a944d6838",
   "metadata": {},
   "source": [
    "# Data Science Tools and Ecosystem"
   ]
  },
  {
   "cell_type": "markdown",
   "id": "08f05d59-a055-4c86-ac68-027786e7ae15",
   "metadata": {},
   "source": [
    "In this notebook, Data Science Tools and Ecosystem are summarized."
   ]
  },
  {
   "cell_type": "markdown",
   "id": "1444b872-f306-4bdc-8f6e-725f60c4770c",
   "metadata": {},
   "source": [
    "Some of the popular languages that Data Scientists use are:"
   ]
  },
  {
   "cell_type": "markdown",
   "id": "9c4eaaea-e802-4841-aa88-222803d61d3c",
   "metadata": {},
   "source": [
    "1. Python\n",
    "2. Java\n",
    "3. Julia\n",
    "4. R\n",
    "5. C++"
   ]
  },
  {
   "cell_type": "markdown",
   "id": "cf29bd22-1079-4e84-9446-abd7cf453ecf",
   "metadata": {},
   "source": [
    "**Objectives:**\n",
    "List popular languages for Data Science\n",
    "* Java\n",
    "* Python\n",
    "* Julia\n",
    "* C++\n",
    "* R\n"
   ]
  },
  {
   "cell_type": "markdown",
   "id": "254b42e7-6dfe-48c1-87ff-f3e18ce564a2",
   "metadata": {},
   "source": [
    "Some of the commonly used libraries used by Data Scientists include"
   ]
  },
  {
   "cell_type": "markdown",
   "id": "fd7a27c7-f922-4c04-ad02-f53a3e7c1905",
   "metadata": {},
   "source": [
    "1. TensroFlow\n",
    "2. NumPy\n",
    "3. Scipy\n",
    "4. Scikit-Learn\n",
    "5. Scrapy"
   ]
  },
  {
   "cell_type": "markdown",
   "id": "723a4bcd-8647-4457-82e5-ddac560222cc",
   "metadata": {},
   "source": [
    "| Data Science Tools |\n",
    "|--------------------|\n",
    "| Apache Spark |\n",
    "| Jupyter Notebook |\n",
    "| RStudio |\n",
    "\n"
   ]
  },
  {
   "cell_type": "markdown",
   "id": "3e1e6261-33ce-4f5a-b715-98faab269cfb",
   "metadata": {},
   "source": [
    "### Below are a few examples of evaluating arithmetic expressions in Python"
   ]
  },
  {
   "cell_type": "markdown",
   "id": "7d1e2a23-6c0f-4cf5-9b49-100ca8935bec",
   "metadata": {
    "tags": []
   },
   "source": [
    "This a simple arithmetic expression to mutiply then add integers"
   ]
  },
  {
   "cell_type": "code",
   "execution_count": 7,
   "id": "83755d67-1894-42d6-9389-1a4f6dd6bab6",
   "metadata": {
    "tags": []
   },
   "outputs": [
    {
     "data": {
      "text/plain": [
       "17"
      ]
     },
     "execution_count": 7,
     "metadata": {},
     "output_type": "execute_result"
    }
   ],
   "source": [
    "(3*4)+5"
   ]
  },
  {
   "cell_type": "markdown",
   "id": "f0cb2b7a-66dd-4297-bc14-45e5cfe3eef6",
   "metadata": {
    "tags": []
   },
   "source": [
    "This will convert 200 minutes to hours by diving by 60"
   ]
  },
  {
   "cell_type": "code",
   "execution_count": 10,
   "id": "f112e788-f132-444f-9193-324269b2ca39",
   "metadata": {
    "tags": []
   },
   "outputs": [
    {
     "data": {
      "text/plain": [
       "3.3333333333333335"
      ]
     },
     "execution_count": 10,
     "metadata": {},
     "output_type": "execute_result"
    }
   ],
   "source": [
    "200/60"
   ]
  },
  {
   "cell_type": "markdown",
   "id": "8b644b81-29b1-48a2-8143-edf16824c0ea",
   "metadata": {},
   "source": [
    "## Author"
   ]
  },
  {
   "cell_type": "markdown",
   "id": "07f3f5f2-7912-4197-8b7f-fb4824efcf8a",
   "metadata": {},
   "source": [
    "Marcio Silva"
   ]
  },
  {
   "cell_type": "code",
   "execution_count": null,
   "id": "430b3b6b-7014-467d-9d2e-ba6efe1dfb70",
   "metadata": {},
   "outputs": [],
   "source": []
  }
 ],
 "metadata": {
  "kernelspec": {
   "display_name": "Python",
   "language": "python",
   "name": "conda-env-python-py"
  },
  "language_info": {
   "codemirror_mode": {
    "name": "ipython",
    "version": 3
   },
   "file_extension": ".py",
   "mimetype": "text/x-python",
   "name": "python",
   "nbconvert_exporter": "python",
   "pygments_lexer": "ipython3",
   "version": "3.7.12"
  }
 },
 "nbformat": 4,
 "nbformat_minor": 5
}
